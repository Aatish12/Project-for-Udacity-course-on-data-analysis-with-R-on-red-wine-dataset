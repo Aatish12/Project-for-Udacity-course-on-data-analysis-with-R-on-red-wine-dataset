{
 "cells": [
  {
   "cell_type": "markdown",
   "metadata": {},
   "source": [
    "# Project On Data Analysis with R for Red Wine Dataset"
   ]
  },
  {
   "cell_type": "markdown",
   "metadata": {},
   "source": [
    "#### loading data from csv file"
   ]
  },
  {
   "cell_type": "code",
   "execution_count": 1,
   "metadata": {},
   "outputs": [],
   "source": [
    "options(warn=-1)"
   ]
  },
  {
   "cell_type": "code",
   "execution_count": 2,
   "metadata": {},
   "outputs": [],
   "source": [
    "\n",
    "red_d<-read.csv('wineQualityReds.csv')"
   ]
  },
  {
   "cell_type": "code",
   "execution_count": 3,
   "metadata": {},
   "outputs": [],
   "source": [
    "options(repr.plot.width=4,repr.plot.height=3)"
   ]
  },
  {
   "cell_type": "markdown",
   "metadata": {},
   "source": [
    "#### Load all of the packages that you end up using in your analysis"
   ]
  },
  {
   "cell_type": "code",
   "execution_count": 4,
   "metadata": {},
   "outputs": [
    {
     "name": "stderr",
     "output_type": "stream",
     "text": [
      "\n",
      "Attaching package: 'dplyr'\n",
      "\n",
      "The following objects are masked from 'package:stats':\n",
      "\n",
      "    filter, lag\n",
      "\n",
      "The following objects are masked from 'package:base':\n",
      "\n",
      "    intersect, setdiff, setequal, union\n",
      "\n",
      "\n",
      "Attaching package: 'gridExtra'\n",
      "\n",
      "The following object is masked from 'package:dplyr':\n",
      "\n",
      "    combine\n",
      "\n"
     ]
    }
   ],
   "source": [
    "library(ggplot2)\n",
    "library(dplyr)\n",
    "library(gridExtra)\n",
    "library(tidyr)"
   ]
  },
  {
   "cell_type": "code",
   "execution_count": 5,
   "metadata": {},
   "outputs": [
    {
     "data": {
      "text/html": [
       "<ol class=list-inline>\n",
       "\t<li>1599</li>\n",
       "\t<li>13</li>\n",
       "</ol>\n"
      ],
      "text/latex": [
       "\\begin{enumerate*}\n",
       "\\item 1599\n",
       "\\item 13\n",
       "\\end{enumerate*}\n"
      ],
      "text/markdown": [
       "1. 1599\n",
       "2. 13\n",
       "\n",
       "\n"
      ],
      "text/plain": [
       "[1] 1599   13"
      ]
     },
     "metadata": {},
     "output_type": "display_data"
    }
   ],
   "source": [
    "dim(red_d)"
   ]
  },
  {
   "cell_type": "markdown",
   "metadata": {},
   "source": [
    "#### Variable names/column names"
   ]
  },
  {
   "cell_type": "code",
   "execution_count": 6,
   "metadata": {},
   "outputs": [
    {
     "data": {
      "text/html": [
       "<ol class=list-inline>\n",
       "\t<li>'X'</li>\n",
       "\t<li>'fixed.acidity'</li>\n",
       "\t<li>'volatile.acidity'</li>\n",
       "\t<li>'citric.acid'</li>\n",
       "\t<li>'residual.sugar'</li>\n",
       "\t<li>'chlorides'</li>\n",
       "\t<li>'free.sulfur.dioxide'</li>\n",
       "\t<li>'total.sulfur.dioxide'</li>\n",
       "\t<li>'density'</li>\n",
       "\t<li>'pH'</li>\n",
       "\t<li>'sulphates'</li>\n",
       "\t<li>'alcohol'</li>\n",
       "\t<li>'quality'</li>\n",
       "</ol>\n"
      ],
      "text/latex": [
       "\\begin{enumerate*}\n",
       "\\item 'X'\n",
       "\\item 'fixed.acidity'\n",
       "\\item 'volatile.acidity'\n",
       "\\item 'citric.acid'\n",
       "\\item 'residual.sugar'\n",
       "\\item 'chlorides'\n",
       "\\item 'free.sulfur.dioxide'\n",
       "\\item 'total.sulfur.dioxide'\n",
       "\\item 'density'\n",
       "\\item 'pH'\n",
       "\\item 'sulphates'\n",
       "\\item 'alcohol'\n",
       "\\item 'quality'\n",
       "\\end{enumerate*}\n"
      ],
      "text/markdown": [
       "1. 'X'\n",
       "2. 'fixed.acidity'\n",
       "3. 'volatile.acidity'\n",
       "4. 'citric.acid'\n",
       "5. 'residual.sugar'\n",
       "6. 'chlorides'\n",
       "7. 'free.sulfur.dioxide'\n",
       "8. 'total.sulfur.dioxide'\n",
       "9. 'density'\n",
       "10. 'pH'\n",
       "11. 'sulphates'\n",
       "12. 'alcohol'\n",
       "13. 'quality'\n",
       "\n",
       "\n"
      ],
      "text/plain": [
       " [1] \"X\"                    \"fixed.acidity\"        \"volatile.acidity\"    \n",
       " [4] \"citric.acid\"          \"residual.sugar\"       \"chlorides\"           \n",
       " [7] \"free.sulfur.dioxide\"  \"total.sulfur.dioxide\" \"density\"             \n",
       "[10] \"pH\"                   \"sulphates\"            \"alcohol\"             \n",
       "[13] \"quality\"             "
      ]
     },
     "metadata": {},
     "output_type": "display_data"
    }
   ],
   "source": [
    "names(red_d)"
   ]
  },
  {
   "cell_type": "markdown",
   "metadata": {},
   "source": [
    "#### datatypes of all variables"
   ]
  },
  {
   "cell_type": "code",
   "execution_count": 6,
   "metadata": {},
   "outputs": [
    {
     "name": "stdout",
     "output_type": "stream",
     "text": [
      "'data.frame':\t1599 obs. of  13 variables:\n",
      " $ X                   : int  1 2 3 4 5 6 7 8 9 10 ...\n",
      " $ fixed.acidity       : num  7.4 7.8 7.8 11.2 7.4 7.4 7.9 7.3 7.8 7.5 ...\n",
      " $ volatile.acidity    : num  0.7 0.88 0.76 0.28 0.7 0.66 0.6 0.65 0.58 0.5 ...\n",
      " $ citric.acid         : num  0 0 0.04 0.56 0 0 0.06 0 0.02 0.36 ...\n",
      " $ residual.sugar      : num  1.9 2.6 2.3 1.9 1.9 1.8 1.6 1.2 2 6.1 ...\n",
      " $ chlorides           : num  0.076 0.098 0.092 0.075 0.076 0.075 0.069 0.065 0.073 0.071 ...\n",
      " $ free.sulfur.dioxide : num  11 25 15 17 11 13 15 15 9 17 ...\n",
      " $ total.sulfur.dioxide: num  34 67 54 60 34 40 59 21 18 102 ...\n",
      " $ density             : num  0.998 0.997 0.997 0.998 0.998 ...\n",
      " $ pH                  : num  3.51 3.2 3.26 3.16 3.51 3.51 3.3 3.39 3.36 3.35 ...\n",
      " $ sulphates           : num  0.56 0.68 0.65 0.58 0.56 0.56 0.46 0.47 0.57 0.8 ...\n",
      " $ alcohol             : num  9.4 9.8 9.8 9.8 9.4 9.4 9.4 10 9.5 10.5 ...\n",
      " $ quality             : int  5 5 5 6 5 5 5 7 7 5 ...\n"
     ]
    }
   ],
   "source": [
    "str(red_d)"
   ]
  },
  {
   "cell_type": "code",
   "execution_count": 7,
   "metadata": {},
   "outputs": [],
   "source": [
    "red_d$quality<-factor(red_d$quality)"
   ]
  },
  {
   "cell_type": "code",
   "execution_count": 8,
   "metadata": {},
   "outputs": [
    {
     "name": "stdout",
     "output_type": "stream",
     "text": [
      "'data.frame':\t1599 obs. of  13 variables:\n",
      " $ X                   : int  1 2 3 4 5 6 7 8 9 10 ...\n",
      " $ fixed.acidity       : num  7.4 7.8 7.8 11.2 7.4 7.4 7.9 7.3 7.8 7.5 ...\n",
      " $ volatile.acidity    : num  0.7 0.88 0.76 0.28 0.7 0.66 0.6 0.65 0.58 0.5 ...\n",
      " $ citric.acid         : num  0 0 0.04 0.56 0 0 0.06 0 0.02 0.36 ...\n",
      " $ residual.sugar      : num  1.9 2.6 2.3 1.9 1.9 1.8 1.6 1.2 2 6.1 ...\n",
      " $ chlorides           : num  0.076 0.098 0.092 0.075 0.076 0.075 0.069 0.065 0.073 0.071 ...\n",
      " $ free.sulfur.dioxide : num  11 25 15 17 11 13 15 15 9 17 ...\n",
      " $ total.sulfur.dioxide: num  34 67 54 60 34 40 59 21 18 102 ...\n",
      " $ density             : num  0.998 0.997 0.997 0.998 0.998 ...\n",
      " $ pH                  : num  3.51 3.2 3.26 3.16 3.51 3.51 3.3 3.39 3.36 3.35 ...\n",
      " $ sulphates           : num  0.56 0.68 0.65 0.58 0.56 0.56 0.46 0.47 0.57 0.8 ...\n",
      " $ alcohol             : num  9.4 9.8 9.8 9.8 9.4 9.4 9.4 10 9.5 10.5 ...\n",
      " $ quality             : Factor w/ 6 levels \"3\",\"4\",\"5\",\"6\",..: 3 3 3 4 3 3 3 5 5 3 ...\n"
     ]
    }
   ],
   "source": [
    "str(red_d)"
   ]
  },
  {
   "cell_type": "code",
   "execution_count": 8,
   "metadata": {},
   "outputs": [
    {
     "data": {
      "text/html": [
       "<ol class=list-inline>\n",
       "\t<li>'3'</li>\n",
       "\t<li>'4'</li>\n",
       "\t<li>'5'</li>\n",
       "\t<li>'6'</li>\n",
       "\t<li>'7'</li>\n",
       "\t<li>'8'</li>\n",
       "</ol>\n"
      ],
      "text/latex": [
       "\\begin{enumerate*}\n",
       "\\item '3'\n",
       "\\item '4'\n",
       "\\item '5'\n",
       "\\item '6'\n",
       "\\item '7'\n",
       "\\item '8'\n",
       "\\end{enumerate*}\n"
      ],
      "text/markdown": [
       "1. '3'\n",
       "2. '4'\n",
       "3. '5'\n",
       "4. '6'\n",
       "5. '7'\n",
       "6. '8'\n",
       "\n",
       "\n"
      ],
      "text/plain": [
       "[1] \"3\" \"4\" \"5\" \"6\" \"7\" \"8\""
      ]
     },
     "metadata": {},
     "output_type": "display_data"
    }
   ],
   "source": [
    "levels(red_d$quality)"
   ]
  },
  {
   "cell_type": "markdown",
   "metadata": {},
   "source": [
    "#### summary of all variables"
   ]
  },
  {
   "cell_type": "code",
   "execution_count": 9,
   "metadata": {},
   "outputs": [
    {
     "data": {
      "text/plain": [
       "       X          fixed.acidity   volatile.acidity  citric.acid   \n",
       " Min.   :   1.0   Min.   : 4.60   Min.   :0.1200   Min.   :0.000  \n",
       " 1st Qu.: 400.5   1st Qu.: 7.10   1st Qu.:0.3900   1st Qu.:0.090  \n",
       " Median : 800.0   Median : 7.90   Median :0.5200   Median :0.260  \n",
       " Mean   : 800.0   Mean   : 8.32   Mean   :0.5278   Mean   :0.271  \n",
       " 3rd Qu.:1199.5   3rd Qu.: 9.20   3rd Qu.:0.6400   3rd Qu.:0.420  \n",
       " Max.   :1599.0   Max.   :15.90   Max.   :1.5800   Max.   :1.000  \n",
       " residual.sugar     chlorides       free.sulfur.dioxide total.sulfur.dioxide\n",
       " Min.   : 0.900   Min.   :0.01200   Min.   : 1.00       Min.   :  6.00      \n",
       " 1st Qu.: 1.900   1st Qu.:0.07000   1st Qu.: 7.00       1st Qu.: 22.00      \n",
       " Median : 2.200   Median :0.07900   Median :14.00       Median : 38.00      \n",
       " Mean   : 2.539   Mean   :0.08747   Mean   :15.87       Mean   : 46.47      \n",
       " 3rd Qu.: 2.600   3rd Qu.:0.09000   3rd Qu.:21.00       3rd Qu.: 62.00      \n",
       " Max.   :15.500   Max.   :0.61100   Max.   :72.00       Max.   :289.00      \n",
       "    density             pH          sulphates         alcohol      quality\n",
       " Min.   :0.9901   Min.   :2.740   Min.   :0.3300   Min.   : 8.40   3: 10  \n",
       " 1st Qu.:0.9956   1st Qu.:3.210   1st Qu.:0.5500   1st Qu.: 9.50   4: 53  \n",
       " Median :0.9968   Median :3.310   Median :0.6200   Median :10.20   5:681  \n",
       " Mean   :0.9967   Mean   :3.311   Mean   :0.6581   Mean   :10.42   6:638  \n",
       " 3rd Qu.:0.9978   3rd Qu.:3.400   3rd Qu.:0.7300   3rd Qu.:11.10   7:199  \n",
       " Max.   :1.0037   Max.   :4.010   Max.   :2.0000   Max.   :14.90   8: 18  "
      ]
     },
     "metadata": {},
     "output_type": "display_data"
    }
   ],
   "source": [
    "summary(red_d)"
   ]
  },
  {
   "cell_type": "raw",
   "metadata": {},
   "source": [
    "Dataset contains 13 variables with 1599 rows\n",
    "\n"
   ]
  },
  {
   "cell_type": "code",
   "execution_count": 12,
   "metadata": {},
   "outputs": [
    {
     "data": {
      "text/html": [
       "<table>\n",
       "<thead><tr><th scope=col>X</th><th scope=col>fixed.acidity</th><th scope=col>volatile.acidity</th><th scope=col>citric.acid</th><th scope=col>residual.sugar</th><th scope=col>chlorides</th><th scope=col>free.sulfur.dioxide</th><th scope=col>total.sulfur.dioxide</th><th scope=col>density</th><th scope=col>pH</th><th scope=col>sulphates</th><th scope=col>alcohol</th><th scope=col>quality</th></tr></thead>\n",
       "<tbody>\n",
       "\t<tr><td> 1    </td><td> 7.4  </td><td>0.70  </td><td>0.00  </td><td>1.9   </td><td>0.076 </td><td>11    </td><td> 34   </td><td>0.9978</td><td>3.51  </td><td>0.56  </td><td> 9.4  </td><td>5     </td></tr>\n",
       "\t<tr><td> 2    </td><td> 7.8  </td><td>0.88  </td><td>0.00  </td><td>2.6   </td><td>0.098 </td><td>25    </td><td> 67   </td><td>0.9968</td><td>3.20  </td><td>0.68  </td><td> 9.8  </td><td>5     </td></tr>\n",
       "\t<tr><td> 3    </td><td> 7.8  </td><td>0.76  </td><td>0.04  </td><td>2.3   </td><td>0.092 </td><td>15    </td><td> 54   </td><td>0.9970</td><td>3.26  </td><td>0.65  </td><td> 9.8  </td><td>5     </td></tr>\n",
       "\t<tr><td> 4    </td><td>11.2  </td><td>0.28  </td><td>0.56  </td><td>1.9   </td><td>0.075 </td><td>17    </td><td> 60   </td><td>0.9980</td><td>3.16  </td><td>0.58  </td><td> 9.8  </td><td>6     </td></tr>\n",
       "\t<tr><td> 5    </td><td> 7.4  </td><td>0.70  </td><td>0.00  </td><td>1.9   </td><td>0.076 </td><td>11    </td><td> 34   </td><td>0.9978</td><td>3.51  </td><td>0.56  </td><td> 9.4  </td><td>5     </td></tr>\n",
       "\t<tr><td> 6    </td><td> 7.4  </td><td>0.66  </td><td>0.00  </td><td>1.8   </td><td>0.075 </td><td>13    </td><td> 40   </td><td>0.9978</td><td>3.51  </td><td>0.56  </td><td> 9.4  </td><td>5     </td></tr>\n",
       "\t<tr><td> 7    </td><td> 7.9  </td><td>0.60  </td><td>0.06  </td><td>1.6   </td><td>0.069 </td><td>15    </td><td> 59   </td><td>0.9964</td><td>3.30  </td><td>0.46  </td><td> 9.4  </td><td>5     </td></tr>\n",
       "\t<tr><td> 8    </td><td> 7.3  </td><td>0.65  </td><td>0.00  </td><td>1.2   </td><td>0.065 </td><td>15    </td><td> 21   </td><td>0.9946</td><td>3.39  </td><td>0.47  </td><td>10.0  </td><td>7     </td></tr>\n",
       "\t<tr><td> 9    </td><td> 7.8  </td><td>0.58  </td><td>0.02  </td><td>2.0   </td><td>0.073 </td><td> 9    </td><td> 18   </td><td>0.9968</td><td>3.36  </td><td>0.57  </td><td> 9.5  </td><td>7     </td></tr>\n",
       "\t<tr><td>10    </td><td> 7.5  </td><td>0.50  </td><td>0.36  </td><td>6.1   </td><td>0.071 </td><td>17    </td><td>102   </td><td>0.9978</td><td>3.35  </td><td>0.80  </td><td>10.5  </td><td>5     </td></tr>\n",
       "</tbody>\n",
       "</table>\n"
      ],
      "text/latex": [
       "\\begin{tabular}{r|lllllllllllll}\n",
       " X & fixed.acidity & volatile.acidity & citric.acid & residual.sugar & chlorides & free.sulfur.dioxide & total.sulfur.dioxide & density & pH & sulphates & alcohol & quality\\\\\n",
       "\\hline\n",
       "\t  1     &  7.4   & 0.70   & 0.00   & 1.9    & 0.076  & 11     &  34    & 0.9978 & 3.51   & 0.56   &  9.4   & 5     \\\\\n",
       "\t  2     &  7.8   & 0.88   & 0.00   & 2.6    & 0.098  & 25     &  67    & 0.9968 & 3.20   & 0.68   &  9.8   & 5     \\\\\n",
       "\t  3     &  7.8   & 0.76   & 0.04   & 2.3    & 0.092  & 15     &  54    & 0.9970 & 3.26   & 0.65   &  9.8   & 5     \\\\\n",
       "\t  4     & 11.2   & 0.28   & 0.56   & 1.9    & 0.075  & 17     &  60    & 0.9980 & 3.16   & 0.58   &  9.8   & 6     \\\\\n",
       "\t  5     &  7.4   & 0.70   & 0.00   & 1.9    & 0.076  & 11     &  34    & 0.9978 & 3.51   & 0.56   &  9.4   & 5     \\\\\n",
       "\t  6     &  7.4   & 0.66   & 0.00   & 1.8    & 0.075  & 13     &  40    & 0.9978 & 3.51   & 0.56   &  9.4   & 5     \\\\\n",
       "\t  7     &  7.9   & 0.60   & 0.06   & 1.6    & 0.069  & 15     &  59    & 0.9964 & 3.30   & 0.46   &  9.4   & 5     \\\\\n",
       "\t  8     &  7.3   & 0.65   & 0.00   & 1.2    & 0.065  & 15     &  21    & 0.9946 & 3.39   & 0.47   & 10.0   & 7     \\\\\n",
       "\t  9     &  7.8   & 0.58   & 0.02   & 2.0    & 0.073  &  9     &  18    & 0.9968 & 3.36   & 0.57   &  9.5   & 7     \\\\\n",
       "\t 10     &  7.5   & 0.50   & 0.36   & 6.1    & 0.071  & 17     & 102    & 0.9978 & 3.35   & 0.80   & 10.5   & 5     \\\\\n",
       "\\end{tabular}\n"
      ],
      "text/markdown": [
       "\n",
       "| X | fixed.acidity | volatile.acidity | citric.acid | residual.sugar | chlorides | free.sulfur.dioxide | total.sulfur.dioxide | density | pH | sulphates | alcohol | quality |\n",
       "|---|---|---|---|---|---|---|---|---|---|---|---|---|\n",
       "|  1     |  7.4   | 0.70   | 0.00   | 1.9    | 0.076  | 11     |  34    | 0.9978 | 3.51   | 0.56   |  9.4   | 5      |\n",
       "|  2     |  7.8   | 0.88   | 0.00   | 2.6    | 0.098  | 25     |  67    | 0.9968 | 3.20   | 0.68   |  9.8   | 5      |\n",
       "|  3     |  7.8   | 0.76   | 0.04   | 2.3    | 0.092  | 15     |  54    | 0.9970 | 3.26   | 0.65   |  9.8   | 5      |\n",
       "|  4     | 11.2   | 0.28   | 0.56   | 1.9    | 0.075  | 17     |  60    | 0.9980 | 3.16   | 0.58   |  9.8   | 6      |\n",
       "|  5     |  7.4   | 0.70   | 0.00   | 1.9    | 0.076  | 11     |  34    | 0.9978 | 3.51   | 0.56   |  9.4   | 5      |\n",
       "|  6     |  7.4   | 0.66   | 0.00   | 1.8    | 0.075  | 13     |  40    | 0.9978 | 3.51   | 0.56   |  9.4   | 5      |\n",
       "|  7     |  7.9   | 0.60   | 0.06   | 1.6    | 0.069  | 15     |  59    | 0.9964 | 3.30   | 0.46   |  9.4   | 5      |\n",
       "|  8     |  7.3   | 0.65   | 0.00   | 1.2    | 0.065  | 15     |  21    | 0.9946 | 3.39   | 0.47   | 10.0   | 7      |\n",
       "|  9     |  7.8   | 0.58   | 0.02   | 2.0    | 0.073  |  9     |  18    | 0.9968 | 3.36   | 0.57   |  9.5   | 7      |\n",
       "| 10     |  7.5   | 0.50   | 0.36   | 6.1    | 0.071  | 17     | 102    | 0.9978 | 3.35   | 0.80   | 10.5   | 5      |\n",
       "\n"
      ],
      "text/plain": [
       "   X  fixed.acidity volatile.acidity citric.acid residual.sugar chlorides\n",
       "1   1  7.4          0.70             0.00        1.9            0.076    \n",
       "2   2  7.8          0.88             0.00        2.6            0.098    \n",
       "3   3  7.8          0.76             0.04        2.3            0.092    \n",
       "4   4 11.2          0.28             0.56        1.9            0.075    \n",
       "5   5  7.4          0.70             0.00        1.9            0.076    \n",
       "6   6  7.4          0.66             0.00        1.8            0.075    \n",
       "7   7  7.9          0.60             0.06        1.6            0.069    \n",
       "8   8  7.3          0.65             0.00        1.2            0.065    \n",
       "9   9  7.8          0.58             0.02        2.0            0.073    \n",
       "10 10  7.5          0.50             0.36        6.1            0.071    \n",
       "   free.sulfur.dioxide total.sulfur.dioxide density pH   sulphates alcohol\n",
       "1  11                   34                  0.9978  3.51 0.56       9.4   \n",
       "2  25                   67                  0.9968  3.20 0.68       9.8   \n",
       "3  15                   54                  0.9970  3.26 0.65       9.8   \n",
       "4  17                   60                  0.9980  3.16 0.58       9.8   \n",
       "5  11                   34                  0.9978  3.51 0.56       9.4   \n",
       "6  13                   40                  0.9978  3.51 0.56       9.4   \n",
       "7  15                   59                  0.9964  3.30 0.46       9.4   \n",
       "8  15                   21                  0.9946  3.39 0.47      10.0   \n",
       "9   9                   18                  0.9968  3.36 0.57       9.5   \n",
       "10 17                  102                  0.9978  3.35 0.80      10.5   \n",
       "   quality\n",
       "1  5      \n",
       "2  5      \n",
       "3  5      \n",
       "4  6      \n",
       "5  5      \n",
       "6  5      \n",
       "7  5      \n",
       "8  7      \n",
       "9  7      \n",
       "10 5      "
      ]
     },
     "metadata": {},
     "output_type": "display_data"
    }
   ],
   "source": [
    "head(red_d,10)"
   ]
  },
  {
   "cell_type": "code",
   "execution_count": 10,
   "metadata": {},
   "outputs": [
    {
     "name": "stderr",
     "output_type": "stream",
     "text": [
      "`stat_bin()` using `bins = 30`. Pick better value with `binwidth`.\n"
     ]
    },
    {
     "data": {
      "image/png": "[encoded data removed]",
      "text/plain": [
       "plot without title"
      ]
     },
     "metadata": {},
     "output_type": "display_data"
    }
   ],
   "source": [
    "options(warn=-1)\n",
    "options(repr.plot.width=4, repr.plot.height=3)\n",
    "ggplot(data=red_d,aes(x=fixed.acidity))+\n",
    "  geom_histogram(binsidth=1,color='black',fill='#850101')+\n",
    "  scale_x_continuous(limits = c(4.60,15.90),breaks = seq(4.60,15.90,1))+\n",
    "  xlab('Fixed acidity')\n"
   ]
  },
  {
   "cell_type": "code",
   "execution_count": 14,
   "metadata": {},
   "outputs": [
    {
     "name": "stderr",
     "output_type": "stream",
     "text": [
      "`stat_bin()` using `bins = 30`. Pick better value with `binwidth`.\n"
     ]
    },
    {
     "data": {
      "image/png": "[encoded data removed]",
      "text/plain": [
       "plot without title"
      ]
     },
     "metadata": {},
     "output_type": "display_data"
    }
   ],
   "source": [
    "ggplot(data=red_d,aes(x=volatile.acidity))+\n",
    "  geom_histogram(color='black',fill='#850101')+\n",
    "  xlab('Volatile acidity')+\n",
    "  scale_x_continuous(limits = c(0.12,1.5),breaks = seq(0.1,1.5,0.1))"
   ]
  },
  {
   "cell_type": "code",
   "execution_count": 32,
   "metadata": {},
   "outputs": [
    {
     "data": {
      "image/png": "[encoded data removed]",
      "text/plain": [
       "plot without title"
      ]
     },
     "metadata": {},
     "output_type": "display_data"
    }
   ],
   "source": [
    "ggplot(data=red_d,aes(x=citric.acid))+\n",
    "  geom_histogram(binwidth = 0.01,color='black',fill='#850101')+\n",
    "  xlab('Citric acid')+\n",
    "  scale_x_continuous(limits = c(0,0.80),breaks=seq(0,0.80,0.1))\n"
   ]
  },
  {
   "cell_type": "code",
   "execution_count": 33,
   "metadata": {},
   "outputs": [
    {
     "name": "stderr",
     "output_type": "stream",
     "text": [
      "`stat_bin()` using `bins = 30`. Pick better value with `binwidth`.\n"
     ]
    },
    {
     "data": {
      "image/png": "[encoded data removed]",
      "text/plain": [
       "plot without title"
      ]
     },
     "metadata": {},
     "output_type": "display_data"
    }
   ],
   "source": [
    "ggplot(data=red_d,aes(x=residual.sugar))+\n",
    "  geom_histogram(color=\"black\",fill=\"#850101\")+\n",
    "  xlab('Residual sugar')+\n",
    "  scale_x_continuous(limits = c(0.9,15.50),breaks=seq(0.9,15.50,2))"
   ]
  },
  {
   "cell_type": "code",
   "execution_count": 34,
   "metadata": {},
   "outputs": [
    {
     "name": "stderr",
     "output_type": "stream",
     "text": [
      "`stat_bin()` using `bins = 30`. Pick better value with `binwidth`.\n"
     ]
    },
    {
     "data": {
      "image/png": "[encoded data removed]",
      "text/plain": [
       "plot without title"
      ]
     },
     "metadata": {},
     "output_type": "display_data"
    }
   ],
   "source": [
    "ggplot(data = red_d,aes(x=chlorides))+\n",
    "  geom_histogram(color=\"black\",fill=\"#850101\")+\n",
    "  xlab(\"Chlorides\")"
   ]
  },
  {
   "cell_type": "code",
   "execution_count": 35,
   "metadata": {},
   "outputs": [
    {
     "data": {
      "image/png": "[encoded data removed]",
      "text/plain": [
       "plot without title"
      ]
     },
     "metadata": {},
     "output_type": "display_data"
    }
   ],
   "source": [
    "ggplot(data = red_d,aes(x=free.sulfur.dioxide))+\n",
    "  geom_histogram(binwidth=1,color=\"black\",fill=\"#850101\")+\n",
    "  xlab(\"Free sulfur dioxide\")+\n",
    "  scale_x_continuous(limits = c(1,60), breaks=seq(1,60,2))"
   ]
  },
  {
   "cell_type": "code",
   "execution_count": 36,
   "metadata": {},
   "outputs": [
    {
     "data": {
      "image/png": "[encoded data removed]",
      "text/plain": [
       "plot without title"
      ]
     },
     "metadata": {},
     "output_type": "display_data"
    }
   ],
   "source": [
    "ggplot(data = red_d,aes(x=total.sulfur.dioxide))+\n",
    "  geom_histogram(binwidth=10,color=\"black\",fill=\"#850101\")+\n",
    "  xlab(\"Total sulfur dioxide\")+\n",
    "  scale_x_continuous(limits = c(6,200), breaks=seq(6,200,5))"
   ]
  },
  {
   "cell_type": "code",
   "execution_count": 37,
   "metadata": {},
   "outputs": [
    {
     "name": "stderr",
     "output_type": "stream",
     "text": [
      "`stat_bin()` using `bins = 30`. Pick better value with `binwidth`.\n"
     ]
    },
    {
     "data": {
      "image/png": "[encoded data removed]",
      "text/plain": [
       "plot without title"
      ]
     },
     "metadata": {},
     "output_type": "display_data"
    }
   ],
   "source": [
    "ggplot(data = red_d,aes(x=density))+\n",
    "  geom_histogram(color=\"black\",fill=\"#850101\")+\n",
    "  xlab(\"Density\")+\n",
    "  scale_x_continuous(limits = c(0.9901,1.0037), breaks=seq(0.9901,1.0037,0.001))"
   ]
  },
  {
   "cell_type": "code",
   "execution_count": 38,
   "metadata": {},
   "outputs": [
    {
     "name": "stderr",
     "output_type": "stream",
     "text": [
      "`stat_bin()` using `bins = 30`. Pick better value with `binwidth`.\n"
     ]
    },
    {
     "data": {
      "image/png": "[encoded data removed]",
      "text/plain": [
       "plot without title"
      ]
     },
     "metadata": {},
     "output_type": "display_data"
    }
   ],
   "source": [
    "ggplot(data = red_d,aes(x=pH))+\n",
    "  geom_histogram(color=\"black\",fill=\"#850101\")+\n",
    "  xlab(\"pH\")+\n",
    "  scale_x_continuous(limits = c(2.74,4.01), breaks=seq(2.74,4.01,0.10))\n",
    "  "
   ]
  },
  {
   "cell_type": "code",
   "execution_count": 39,
   "metadata": {},
   "outputs": [
    {
     "name": "stderr",
     "output_type": "stream",
     "text": [
      "`stat_bin()` using `bins = 30`. Pick better value with `binwidth`.\n"
     ]
    },
    {
     "data": {
      "image/png": "[encoded data removed]",
      "text/plain": [
       "plot without title"
      ]
     },
     "metadata": {},
     "output_type": "display_data"
    }
   ],
   "source": [
    "ggplot(data = red_d,aes(x=sulphates))+\n",
    "  geom_histogram(color=\"black\",fill=\"#850101\")+\n",
    "  xlab(\"sulphates\")+\n",
    "  scale_x_continuous(limits = c(0.33,2.00), breaks=seq(0.33,2.00,0.1))"
   ]
  },
  {
   "cell_type": "code",
   "execution_count": 40,
   "metadata": {},
   "outputs": [
    {
     "name": "stderr",
     "output_type": "stream",
     "text": [
      "`stat_bin()` using `bins = 30`. Pick better value with `binwidth`.\n"
     ]
    },
    {
     "data": {
      "image/png": "[encoded data removed]",
      "text/plain": [
       "plot without title"
      ]
     },
     "metadata": {},
     "output_type": "display_data"
    }
   ],
   "source": [
    "ggplot(data = red_d,aes(x=alcohol))+\n",
    "  geom_histogram(color=\"black\",fill=\"#850101\")+\n",
    "  xlab(\"alcohol\")+\n",
    "  scale_x_continuous(limits = c(8.40,14.90), breaks=seq(8.40,14.90,1))"
   ]
  },
  {
   "cell_type": "code",
   "execution_count": 41,
   "metadata": {},
   "outputs": [
    {
     "data": {
      "image/png": "[encoded data removed]",
      "text/plain": [
       "plot without title"
      ]
     },
     "metadata": {},
     "output_type": "display_data"
    }
   ],
   "source": [
    "ggplot(data = red_d,aes(x=quality))+\n",
    "  geom_histogram(aes(y=..count..),stat='count',color=\"black\",fill=\"#850101\")+\n",
    "  xlab(\"Quality\")\n"
   ]
  },
  {
   "cell_type": "raw",
   "metadata": {},
   "source": [
    "As we convert the type of 'quality' variable from int to ordered factor type variable to get better analysis."
   ]
  },
  {
   "cell_type": "markdown",
   "metadata": {},
   "source": [
    "## Univariate Analysis\n",
    "\n",
    "### What is the structure of your dataset?"
   ]
  },
  {
   "cell_type": "code",
   "execution_count": null,
   "metadata": {},
   "outputs": [],
   "source": []
  },
  {
   "cell_type": "raw",
   "metadata": {},
   "source": [
    "Red Wine dataset contains all information about red wine. This dataset have 1599 rows and 13 variables.the dataset contains 13 variables named as X,fixed.acidity,volatile.acidity,citric.acid,residual.sugar,chlorides,free.sulfur.dioxide,density,ph,suphates,alcohol,quality.In this dataset quality ordered factor variable.In this dataset most of the red wine samples have 5 and 6 quality.Most red wine sample contains 9.4 percent alcohol."
   ]
  },
  {
   "cell_type": "markdown",
   "metadata": {},
   "source": [
    "### What is/are the main feature(s) of interest in your dataset?"
   ]
  },
  {
   "cell_type": "raw",
   "metadata": {},
   "source": [
    "In red wine dataset quality variable is the main feature of interest.Based on different variable we can check quality of red wine dataset."
   ]
  },
  {
   "cell_type": "markdown",
   "metadata": {},
   "source": [
    "### What other features in the dataset do you think will help support your investigation into your feature(s) of interest?"
   ]
  },
  {
   "cell_type": "raw",
   "metadata": {},
   "source": [
    "Remaining all features rather than quality will help support in my investigation into my features of interest. "
   ]
  },
  {
   "cell_type": "markdown",
   "metadata": {},
   "source": [
    "### Did you create any new variables from existing variables in the dataset?"
   ]
  },
  {
   "cell_type": "raw",
   "metadata": {},
   "source": [
    "I don't create any new variable.I only change the type of quality variable from int to ordered factor. "
   ]
  },
  {
   "cell_type": "markdown",
   "metadata": {},
   "source": [
    "# Bivariate Plots Section"
   ]
  },
  {
   "cell_type": "raw",
   "metadata": {},
   "source": [
    "Now to see which attribute results higher wine quality, we can take relationships between different variables with quality.If any attribute shows strong relation with quality then that attribute affects the quality of wine.    "
   ]
  },
  {
   "cell_type": "code",
   "execution_count": 12,
   "metadata": {},
   "outputs": [
    {
     "data": {
      "text/plain": [
       "   Min. 1st Qu.  Median    Mean 3rd Qu.    Max. \n",
       " 0.1200  0.3900  0.5200  0.5278  0.6400  1.5800 "
      ]
     },
     "metadata": {},
     "output_type": "display_data"
    }
   ],
   "source": [
    "first we check relation between fixed.acidity and quality"
   ]
  },
  {
   "cell_type": "code",
   "execution_count": 27,
   "metadata": {},
   "outputs": [
    {
     "data": {
      "image/png": "[encoded data removed]",
      "text/plain": [
       "plot without title"
      ]
     },
     "metadata": {},
     "output_type": "display_data"
    }
   ],
   "source": [
    "options(repr.plot.width=4,repr.plot.height=3)\n",
    "ggplot(data=red_d,aes(y=quality,x=fixed.acidity))+\n",
    "  geom_point(alpha=1/10)+\n",
    "  xlab('fixed.acidity')+\n",
    "  ylab('quality')\n",
    "\n",
    "\n"
   ]
  },
  {
   "cell_type": "raw",
   "metadata": {},
   "source": [
    "Pearson's product-moment correlation\n",
    "\n",
    "data:  red_d$quality and red_d$fixed.acidity\n",
    "t = 4.996, df = 1597, p-value = 6.496e-07\n",
    "alternative hypothesis: true correlation is not equal to 0\n",
    "95 percent confidence interval:\n",
    " 0.07548957 0.17202667\n",
    "sample estimates:\n",
    "      cor \n",
    "0.1240516 "
   ]
  },
  {
   "cell_type": "code",
   "execution_count": 26,
   "metadata": {},
   "outputs": [
    {
     "data": {
      "image/png": "[encoded data removed]",
      "text/plain": [
       "plot without title"
      ]
     },
     "metadata": {},
     "output_type": "display_data"
    }
   ],
   "source": [
    "ggplot(data = red_d,aes(x=quality,y=fixed.acidity))+\n",
    "  geom_boxplot()+\n",
    "  xlab(\"quality\")+\n",
    "  ylab(\"fixed.acidity\")"
   ]
  },
  {
   "cell_type": "raw",
   "metadata": {},
   "source": [
    "The correlation between quality and fixed.acidity is 0.1240 which is very week relation.The boxplot also shows that quality increases from 3-7 and at 8 it decreases.So the fixed.acidity does not defines qaulity of wine accurately."
   ]
  },
  {
   "cell_type": "code",
   "execution_count": 20,
   "metadata": {},
   "outputs": [
    {
     "data": {
      "image/png": "[encoded data removed]",
      "text/plain": [
       "plot without title"
      ]
     },
     "metadata": {},
     "output_type": "display_data"
    }
   ],
   "source": [
    "ggplot(data=red_d,aes(x=volatile.acidity,y=quality))+\n",
    "  geom_point(alpha=1/10)+\n",
    "  xlab('volatile.acidity')+\n",
    "  ylab('quality')"
   ]
  },
  {
   "cell_type": "raw",
   "metadata": {},
   "source": [
    "Pearson's product-moment correlation\n",
    "\n",
    "data:  red_d$quality and red_d$volatile.acidity\n",
    "t = -16.954, df = 1597, p-value < 2.2e-16\n",
    "alternative hypothesis: true correlation is not equal to 0\n",
    "95 percent confidence interval:\n",
    " -0.4313210 -0.3482032\n",
    "sample estimates:\n",
    "       cor \n",
    "-0.3905578"
   ]
  },
  {
   "cell_type": "code",
   "execution_count": 15,
   "metadata": {},
   "outputs": [
    {
     "data": {
      "image/png": "[encoded data removed]",
      "text/plain": [
       "plot without title"
      ]
     },
     "metadata": {},
     "output_type": "display_data"
    }
   ],
   "source": [
    "ggplot(data = red_d,aes(x=factor(quality),y=volatile.acidity))+\n",
    "  geom_boxplot()+\n",
    "  xlab(\"quality\")+\n",
    "  ylab(\"volitile.acidity\")"
   ]
  },
  {
   "cell_type": "raw",
   "metadata": {},
   "source": [
    "The correlation is -0.39 which is equal to -0.4 shows that this is relatively strong negative relation.This boxplot shows that as the quality of vine increases volitile acidity decreases."
   ]
  },
  {
   "cell_type": "code",
   "execution_count": 22,
   "metadata": {},
   "outputs": [
    {
     "data": {
      "image/png": "[encoded data removed]",
      "text/plain": [
       "plot without title"
      ]
     },
     "metadata": {},
     "output_type": "display_data"
    }
   ],
   "source": [
    "ggplot(data=red_d,aes(y=quality,x=citric.acid))+\n",
    "geom_point(alpha=1/10)+\n",
    "xlab(\"citric.acid\")+\n",
    "ylab(\"quality\")"
   ]
  },
  {
   "cell_type": "raw",
   "metadata": {},
   "source": [
    "Pearson's product-moment correlation\n",
    "\n",
    "data:  red_d$citric.acid and red_d$quality\n",
    "t = 9.2875, df = 1597, p-value < 2.2e-16\n",
    "alternative hypothesis: true correlation is not equal to 0\n",
    "95 percent confidence interval:\n",
    " 0.1793415 0.2723711\n",
    "sample estimates:\n",
    "      cor \n",
    "0.2263725 "
   ]
  },
  {
   "cell_type": "raw",
   "metadata": {},
   "source": [
    "The correlation between citric acid and quality is 0.2 which is weak relationship.So citric acid does not defines quality of wine"
   ]
  },
  {
   "cell_type": "code",
   "execution_count": 16,
   "metadata": {},
   "outputs": [
    {
     "data": {
      "image/png": "[encoded data removed]",
      "text/plain": [
       "plot without title"
      ]
     },
     "metadata": {},
     "output_type": "display_data"
    }
   ],
   "source": [
    "ggplot(data = red_d,aes(x=factor(quality),y=citric.acid))+\n",
    "  geom_boxplot()+\n",
    "  xlab(\"quality\")+\n",
    "  ylab(\"citric.acid\")"
   ]
  },
  {
   "cell_type": "raw",
   "metadata": {},
   "source": [
    "This boxplot shows that as the quality of wine increases citric acid deacreases.Citric acid is also a important factor for quality of red wine. "
   ]
  },
  {
   "cell_type": "code",
   "execution_count": 17,
   "metadata": {},
   "outputs": [
    {
     "data": {
      "image/png": "[encoded data removed]",
      "text/plain": [
       "plot without title"
      ]
     },
     "metadata": {},
     "output_type": "display_data"
    }
   ],
   "source": [
    "ggplot(data=red_d,aes(x=residual.sugar,y=quality))+\n",
    "geom_point(alpha=1/10)+\n",
    "xlab(\"residual.sugar\")+\n",
    "ylab(\"quality\")\n"
   ]
  },
  {
   "cell_type": "raw",
   "metadata": {},
   "source": [
    "\n",
    "> cor.test(red_d$residual.sugar,red_d$quality)\n",
    "\n",
    "Pearson's product-moment correlation\n",
    "\n",
    "data:  red_d$residual.sugar and red_d$quality\n",
    "t = 0.5488, df = 1597, p-value = 0.5832\n",
    "alternative hypothesis: true correlation is not equal to 0\n",
    "95 percent confidence interval:\n",
    " -0.03531327  0.06271056\n",
    "sample estimates:\n",
    "       cor \n",
    "0.01373164 \n"
   ]
  },
  {
   "cell_type": "raw",
   "metadata": {},
   "source": [
    "The correlation for residual.sugar and quality is very low which is 0.01.This correlation doesn't means that there is a relationship with residual sugar and quality.so residual sugar is not important factor for quality of wine."
   ]
  },
  {
   "cell_type": "code",
   "execution_count": 19,
   "metadata": {},
   "outputs": [
    {
     "data": {
      "image/png": "[encoded data removed]",
      "text/plain": [
       "plot without title"
      ]
     },
     "metadata": {},
     "output_type": "display_data"
    }
   ],
   "source": [
    "ggplot(data=red_d,aes(x=chlorides,y=quality))+\n",
    "geom_point(alpha=1/10)+\n",
    "xlab(\"chlorides\")+\n",
    "ylab(\"quality\")"
   ]
  },
  {
   "cell_type": "raw",
   "metadata": {},
   "source": [
    "> cor.test(red_d$chlorides,red_d$quality)\n",
    "\n",
    "Pearson's product-moment correlation\n",
    "\n",
    "data:  red_d$chlorides and red_d$quality\n",
    "t = -5.1948, df = 1597, p-value = 2.313e-07\n",
    "alternative hypothesis: true correlation is not equal to 0\n",
    "95 percent confidence interval:\n",
    " -0.17681041 -0.08039344\n",
    "sample estimates:\n",
    "       cor \n",
    "-0.1289066 "
   ]
  },
  {
   "cell_type": "raw",
   "metadata": {},
   "source": [
    "This correlation between chlorides and quality is very weak negetive relation.The correlation is -0.1 which is weak.So its does not affect to the wine quality."
   ]
  },
  {
   "cell_type": "code",
   "execution_count": 13,
   "metadata": {},
   "outputs": [
    {
     "data": {
      "image/png": "[encoded data removed]",
      "text/plain": [
       "plot without title"
      ]
     },
     "metadata": {},
     "output_type": "display_data"
    }
   ],
   "source": [
    "ggplot(data=red_d,aes(x=alcohol,y=quality))+\n",
    "geom_point(alpha=1/10)+\n",
    "xlab(\"alcohol\")+\n",
    "ylab(\"quality\")"
   ]
  },
  {
   "cell_type": "raw",
   "metadata": {},
   "source": [
    "> cor.test(red_d$alcohol,red_d$quality)\n",
    "\n",
    "Pearson's product-moment correlation\n",
    "\n",
    "data:  red_d$alcohol and red_d$quality\n",
    "t = 21.639, df = 1597, p-value < 2.2e-16\n",
    "alternative hypothesis: true correlation is not equal to 0\n",
    "95 percent confidence interval:\n",
    " 0.4373540 0.5132081\n",
    "sample estimates:\n",
    "      cor \n",
    "0.4761663 "
   ]
  },
  {
   "cell_type": "raw",
   "metadata": {},
   "source": [
    "The correlation between alcohol and quality is 0.4 which is strong positive relationship.So alcohol attribute affects the quality of red wine."
   ]
  },
  {
   "cell_type": "code",
   "execution_count": 14,
   "metadata": {},
   "outputs": [
    {
     "data": {
      "image/png": "[encoded data removed]",
      "text/plain": [
       "plot without title"
      ]
     },
     "metadata": {},
     "output_type": "display_data"
    }
   ],
   "source": [
    "ggplot(data=red_d,aes(x=factor(quality),y=alcohol))+\n",
    "geom_boxplot()+\n",
    "xlab(\"quality\")+\n",
    "ylab(\"alcohol\")"
   ]
  },
  {
   "cell_type": "raw",
   "metadata": {},
   "source": [
    "This boxplot between quality and alcohol shows that quality is increases from 6-8.alcohol for quality 5 is less. "
   ]
  },
  {
   "cell_type": "markdown",
   "metadata": {},
   "source": [
    "### Summary for correlation of variables and quality"
   ]
  },
  {
   "cell_type": "raw",
   "metadata": {},
   "source": [
    "On the basis of above analysis quality and alcohol has the strongest positive correlation which is 0.4.\n",
    "The volatile acidity and quality has the strongest negetive correlation which is -0.4.So the variables acohol and volatile acidity are most important factors for defining red wine quality.\n",
    "Second positive correlation is between citric acid and quality.And the second negetive correlation is between chlorides and quality.This variables are affect the wine quality more than other variables."
   ]
  },
  {
   "cell_type": "markdown",
   "metadata": {},
   "source": [
    "## Combinations of attributes on Quality"
   ]
  },
  {
   "cell_type": "markdown",
   "metadata": {},
   "source": [
    "### histogram of alcohol based on quality"
   ]
  },
  {
   "cell_type": "code",
   "execution_count": 10,
   "metadata": {},
   "outputs": [
    {
     "name": "stderr",
     "output_type": "stream",
     "text": [
      "`stat_bin()` using `bins = 30`. Pick better value with `binwidth`.\n"
     ]
    },
    {
     "data": {
      "image/png": "[encoded data removed]",
      "text/plain": [
       "plot without title"
      ]
     },
     "metadata": {},
     "output_type": "display_data"
    }
   ],
   "source": [
    "red_d$quality<-factor(red_d$quality)\n",
    "ggplot(data=red_d,aes(x=alcohol))+\n",
    "  geom_histogram(aes(fill=red_d$quality))+\n",
    "  scale_fill_brewer(type = 'qual')"
   ]
  },
  {
   "cell_type": "raw",
   "metadata": {},
   "source": [
    "On the basis of this histogram we can see that red wine with quality 5 and quality 6 has more alcohol useage.Up to 25 red wines has Quality 7 and alcohol 10-14%.   "
   ]
  },
  {
   "cell_type": "markdown",
   "metadata": {},
   "source": [
    "### histogram of volatile acidity based on quality"
   ]
  },
  {
   "cell_type": "code",
   "execution_count": 11,
   "metadata": {},
   "outputs": [
    {
     "name": "stderr",
     "output_type": "stream",
     "text": [
      "`stat_bin()` using `bins = 30`. Pick better value with `binwidth`.\n"
     ]
    },
    {
     "data": {
      "image/png": "[encoded data removed]",
      "text/plain": [
       "plot without title"
      ]
     },
     "metadata": {},
     "output_type": "display_data"
    }
   ],
   "source": [
    "ggplot(data=red_d,aes(x=volatile.acidity))+\n",
    "  geom_histogram(aes(fill=quality))+\n",
    "  scale_fill_brewer(type = 'qual')\n"
   ]
  },
  {
   "cell_type": "raw",
   "metadata": {},
   "source": [
    "This histogram shows that higher quality red wines has low volatile acidity."
   ]
  },
  {
   "cell_type": "raw",
   "metadata": {},
   "source": [
    "The variables like alcohol,volatile acidity,citric acid shows high impact on the quality of red wine.Now I can draw scatterplot for this multivariate variables. "
   ]
  },
  {
   "cell_type": "markdown",
   "metadata": {},
   "source": [
    "### scatterplot between alcohol and volatile acidity by quality"
   ]
  },
  {
   "cell_type": "code",
   "execution_count": 15,
   "metadata": {},
   "outputs": [
    {
     "data": {
      "image/png": "[encoded data removed]",
      "text/plain": [
       "plot without title"
      ]
     },
     "metadata": {},
     "output_type": "display_data"
    }
   ],
   "source": [
    "ggplot(data=red_d,aes(x=alcohol,y=volatile.acidity))+\n",
    "  geom_point(aes(color=quality))+\n",
    "  scale_color_brewer(type='qual')\n",
    "  options(repr.plot.width=5,repr.plot.height=5)"
   ]
  },
  {
   "cell_type": "raw",
   "metadata": {},
   "source": [
    "This scatterplot shows that higher quality red wine has high alcohol useage but lower volatile acidity.Most of the red wine occure with quality 5-6 has medium to high alcohol useage and medium volatile acidity.The low quality red wine has relatively high volatile acidity. "
   ]
  },
  {
   "cell_type": "markdown",
   "metadata": {},
   "source": [
    "### scatterplot between citric acid and alcohol by quality"
   ]
  },
  {
   "cell_type": "code",
   "execution_count": 17,
   "metadata": {},
   "outputs": [
    {
     "data": {
      "image/png": "[encoded data removed]",
      "text/plain": [
       "plot without title"
      ]
     },
     "metadata": {},
     "output_type": "display_data"
    }
   ],
   "source": [
    "ggplot(data=red_d,aes(x=alcohol,y=citric.acid))+\n",
    "  geom_point(aes(color=quality))+\n",
    "  scale_color_brewer(type='qual')"
   ]
  },
  {
   "cell_type": "raw",
   "metadata": {},
   "source": [
    "This scatterplot shows that high quality red wines has relatively high citric acid and also high alcohol.The medium quality red wine has relatively use of citric acid and alcohol."
   ]
  },
  {
   "cell_type": "markdown",
   "metadata": {},
   "source": [
    "### scatterplot between volatile acidity and citric acid by quality"
   ]
  },
  {
   "cell_type": "code",
   "execution_count": 18,
   "metadata": {},
   "outputs": [
    {
     "data": {
      "image/png": "[encoded data removed]",
      "text/plain": [
       "plot without title"
      ]
     },
     "metadata": {},
     "output_type": "display_data"
    }
   ],
   "source": [
    "ggplot(data=red_d,aes(x=volatile.acidity,y=citric.acid))+\n",
    "  geom_point(aes(color=quality))+\n",
    "  scale_color_brewer(type='qual')\n"
   ]
  },
  {
   "cell_type": "raw",
   "metadata": {},
   "source": [
    "This scatterplot shows that high quality red wines has low volatile acidity but relative high citric acid.Low quality red wines has high volatile acidity and relatively low citric acid.The medium quality red wines has 0.50 to 0.75 percent use of citric acid and relatively great use of alcohol."
   ]
  },
  {
   "cell_type": "markdown",
   "metadata": {},
   "source": [
    "### scatterplot between alcohol and density by quality"
   ]
  },
  {
   "cell_type": "code",
   "execution_count": 19,
   "metadata": {},
   "outputs": [
    {
     "data": {
      "image/png": "[encoded data removed]",
      "text/plain": [
       "plot without title"
      ]
     },
     "metadata": {},
     "output_type": "display_data"
    }
   ],
   "source": [
    "ggplot(data=red_d,aes(x=alcohol,y=density))+\n",
    "  geom_point(aes(color=quality))+\n",
    "  scale_color_brewer(type='qual')"
   ]
  },
  {
   "cell_type": "raw",
   "metadata": {},
   "source": [
    "This scatterplot shows that medium quality red wines are more denser but have relatively low alcohol use.The high quality red wines have medium to high alcohol use and medium to high density.Low quality red wines also have medium to high density.This means that about all red wines have medium to high density."
   ]
  },
  {
   "cell_type": "markdown",
   "metadata": {},
   "source": [
    "### scatterplot between alcohol and residual sugar by quality"
   ]
  },
  {
   "cell_type": "code",
   "execution_count": 20,
   "metadata": {},
   "outputs": [
    {
     "data": {
      "image/png": "[encoded data removed]",
      "text/plain": [
       "plot without title"
      ]
     },
     "metadata": {},
     "output_type": "display_data"
    }
   ],
   "source": [
    "ggplot(data=red_d,aes(x=alcohol,y=residual.sugar))+\n",
    "  geom_point(aes(color=quality))+\n",
    "  scale_color_brewer(type='qual')"
   ]
  },
  {
   "cell_type": "raw",
   "metadata": {},
   "source": [
    "This plot shows that all qualities of red wine has relatively less use of residual sugar.Some high quality and medium quality wines has medium use of residual sugar."
   ]
  },
  {
   "cell_type": "markdown",
   "metadata": {},
   "source": [
    "## Final Plots and summary:-"
   ]
  },
  {
   "cell_type": "markdown",
   "metadata": {},
   "source": [
    "### plot 1"
   ]
  },
  {
   "cell_type": "code",
   "execution_count": 22,
   "metadata": {},
   "outputs": [
    {
     "data": {
      "image/png": "[encoded data removed]",
      "text/plain": [
       "plot without title"
      ]
     },
     "metadata": {},
     "output_type": "display_data"
    }
   ],
   "source": [
    "ggplot(data = red_d,aes(x=quality))+\n",
    "  geom_histogram(aes(y=..count..),stat='count',color=\"black\",fill=\"#850101\")+\n",
    "  xlab(\"Quality ratings\")"
   ]
  },
  {
   "cell_type": "raw",
   "metadata": {},
   "source": [
    "The quality of red wines is skewed at the mid of the quality ratings. "
   ]
  },
  {
   "cell_type": "markdown",
   "metadata": {},
   "source": [
    "### plot 2"
   ]
  },
  {
   "cell_type": "code",
   "execution_count": 25,
   "metadata": {},
   "outputs": [
    {
     "data": {
      "image/png": "[encoded data removed]",
      "text/plain": [
       "plot without title"
      ]
     },
     "metadata": {},
     "output_type": "display_data"
    }
   ],
   "source": [
    "ggplot(data=red_d,aes(x=alcohol,y=volatile.acidity))+\n",
    "  geom_point(aes(color=quality))+\n",
    "  scale_color_brewer(type='qual')"
   ]
  },
  {
   "cell_type": "raw",
   "metadata": {},
   "source": [
    "This plot conclude that high quality wines has medium to high amount of alcohol but low volatile acids.And medium quality red wines has low to medium amount of alcohol but medium volatile acidity."
   ]
  },
  {
   "cell_type": "markdown",
   "metadata": {},
   "source": [
    "### plot 3"
   ]
  },
  {
   "cell_type": "code",
   "execution_count": 26,
   "metadata": {},
   "outputs": [
    {
     "data": {
      "image/png": "[encoded data removed]",
      "text/plain": [
       "plot without title"
      ]
     },
     "metadata": {},
     "output_type": "display_data"
    }
   ],
   "source": [
    "ggplot(data=red_d,aes(x=alcohol,y=citric.acid))+\n",
    "  geom_point(aes(color=quality))+\n",
    "  scale_color_brewer(type='qual')"
   ]
  },
  {
   "cell_type": "raw",
   "metadata": {},
   "source": [
    "This plot conclude that high quality red wines has low volatile acidity but relative high citric acid.Low quality red wines has high volatile acidity and relatively low citric acid.The medium quality red wines has 0.50 to 0.75 percent use of citric acid and relatively great use of alcohol."
   ]
  },
  {
   "cell_type": "markdown",
   "metadata": {},
   "source": [
    "## Summary"
   ]
  },
  {
   "cell_type": "raw",
   "metadata": {},
   "source": [
    "On the basis of above graphs and plots I can conclude that quality of red wine has more influence of alcohol,volatile acidity,citric acid.This variables can be affect the quality of red wines.On the basis of these variables we can rate the quality of red wines as high quality, medium quality and low quality."
   ]
  },
  {
   "cell_type": "code",
   "execution_count": null,
   "metadata": {},
   "outputs": [],
   "source": []
  }
 ],
 "metadata": {
  "kernelspec": {
   "display_name": "R",
   "language": "R",
   "name": "ir"
  },
  "language_info": {
   "codemirror_mode": "r",
   "file_extension": ".r",
   "mimetype": "text/x-r-source",
   "name": "R",
   "pygments_lexer": "r",
   "version": "3.5.2"
  }
 },
 "nbformat": 4,
 "nbformat_minor": 2
}
